{
 "cells": [
  {
   "cell_type": "markdown",
   "id": "cfce4ab7",
   "metadata": {},
   "source": [
    "Import Librairies"
   ]
  },
  {
   "cell_type": "code",
   "execution_count": null,
   "id": "e3518270",
   "metadata": {},
   "outputs": [],
   "source": []
  },
  {
   "cell_type": "code",
   "execution_count": 1,
   "id": "1a0377a7",
   "metadata": {},
   "outputs": [],
   "source": [
    "import pandas as pd\n",
    "import numpy as np \n",
    "import matplotlib.pyplot as plt\n",
    "import seaborn as sns"
   ]
  },
  {
   "cell_type": "code",
   "execution_count": 2,
   "id": "e2593a05",
   "metadata": {},
   "outputs": [],
   "source": [
    "import tensorflow as tf"
   ]
  },
  {
   "cell_type": "code",
   "execution_count": 3,
   "id": "e01a5499",
   "metadata": {},
   "outputs": [
    {
     "name": "stdout",
     "output_type": "stream",
     "text": [
      "WARNING:tensorflow:From C:\\Users\\yacin\\AppData\\Local\\Temp\\ipykernel_9844\\337460670.py:1: is_gpu_available (from tensorflow.python.framework.test_util) is deprecated and will be removed in a future version.\n",
      "Instructions for updating:\n",
      "Use `tf.config.list_physical_devices('GPU')` instead.\n"
     ]
    },
    {
     "data": {
      "text/plain": [
       "True"
      ]
     },
     "execution_count": 3,
     "metadata": {},
     "output_type": "execute_result"
    }
   ],
   "source": [
    "tf.test.is_gpu_available()"
   ]
  },
  {
   "cell_type": "code",
   "execution_count": 4,
   "id": "bfdd3d7a",
   "metadata": {},
   "outputs": [
    {
     "name": "stdout",
     "output_type": "stream",
     "text": [
      "Available GPUs: [PhysicalDevice(name='/physical_device:GPU:0', device_type='GPU')]\n"
     ]
    }
   ],
   "source": [
    "gpus = tf.config.experimental.list_physical_devices('GPU')\n",
    "print(\"Available GPUs:\", gpus)\n"
   ]
  },
  {
   "cell_type": "code",
   "execution_count": 5,
   "id": "ff2e4261",
   "metadata": {},
   "outputs": [
    {
     "name": "stdout",
     "output_type": "stream",
     "text": [
      "[PhysicalDevice(name='/physical_device:GPU:0', device_type='GPU')]\n"
     ]
    }
   ],
   "source": [
    "print(tf.config.list_physical_devices('GPU'))"
   ]
  },
  {
   "cell_type": "code",
   "execution_count": 6,
   "id": "f25a03bd",
   "metadata": {},
   "outputs": [
    {
     "data": {
      "text/plain": [
       "True"
      ]
     },
     "execution_count": 6,
     "metadata": {},
     "output_type": "execute_result"
    }
   ],
   "source": [
    "tf.test.is_built_with_cuda()"
   ]
  },
  {
   "cell_type": "code",
   "execution_count": 7,
   "id": "f16032f3",
   "metadata": {},
   "outputs": [
    {
     "data": {
      "text/plain": [
       "'2.10.0'"
      ]
     },
     "execution_count": 7,
     "metadata": {},
     "output_type": "execute_result"
    }
   ],
   "source": [
    "tf.__version__"
   ]
  },
  {
   "cell_type": "markdown",
   "id": "cdee0bf9",
   "metadata": {},
   "source": [
    "Import DataSet"
   ]
  },
  {
   "cell_type": "code",
   "execution_count": 8,
   "id": "06db7c29",
   "metadata": {},
   "outputs": [],
   "source": [
    "from tensorflow.keras.datasets import cifar10"
   ]
  },
  {
   "cell_type": "code",
   "execution_count": 9,
   "id": "edf1e9cf",
   "metadata": {},
   "outputs": [],
   "source": [
    "# Load in the data\n",
    "cifar10 = tf.keras.datasets.cifar10"
   ]
  },
  {
   "cell_type": "code",
   "execution_count": 10,
   "id": "f40484c8",
   "metadata": {},
   "outputs": [
    {
     "data": {
      "text/plain": [
       "<module 'keras.api._v2.keras.datasets.cifar10' from 'C:\\\\Users\\\\yacin\\\\anaconda3\\\\envs\\\\tensorflow_gpu\\\\lib\\\\site-packages\\\\keras\\\\api\\\\_v2\\\\keras\\\\datasets\\\\cifar10\\\\__init__.py'>"
      ]
     },
     "execution_count": 10,
     "metadata": {},
     "output_type": "execute_result"
    }
   ],
   "source": [
    "cifar10"
   ]
  },
  {
   "cell_type": "code",
   "execution_count": 11,
   "id": "b56777ed",
   "metadata": {},
   "outputs": [
    {
     "name": "stdout",
     "output_type": "stream",
     "text": [
      "(50000, 32, 32, 3) (50000, 1) (10000, 32, 32, 3) (10000, 1)\n"
     ]
    }
   ],
   "source": [
    "# Distribute it to train and test set\n",
    "(X_train, y_train), (X_test, y_test) = cifar10.load_data()\n",
    "print(X_train.shape, y_train.shape, X_test.shape, y_test.shape)"
   ]
  },
  {
   "cell_type": "code",
   "execution_count": 12,
   "id": "d3902744",
   "metadata": {},
   "outputs": [],
   "source": [
    "a = []\n",
    "for element in y_train:\n",
    "    if element not in a: \n",
    "        a.append(element)"
   ]
  },
  {
   "cell_type": "code",
   "execution_count": 13,
   "id": "8845e8d3",
   "metadata": {},
   "outputs": [
    {
     "data": {
      "text/plain": [
       "[array([6], dtype=uint8),\n",
       " array([9], dtype=uint8),\n",
       " array([4], dtype=uint8),\n",
       " array([1], dtype=uint8),\n",
       " array([2], dtype=uint8),\n",
       " array([7], dtype=uint8),\n",
       " array([8], dtype=uint8),\n",
       " array([3], dtype=uint8),\n",
       " array([5], dtype=uint8),\n",
       " array([0], dtype=uint8)]"
      ]
     },
     "execution_count": 13,
     "metadata": {},
     "output_type": "execute_result"
    }
   ],
   "source": [
    "a"
   ]
  },
  {
   "cell_type": "markdown",
   "id": "b79801ce",
   "metadata": {},
   "source": [
    "### Data Explorating"
   ]
  },
  {
   "cell_type": "markdown",
   "id": "1aea37f8",
   "metadata": {},
   "source": [
    "1 - Data Visualisation "
   ]
  },
  {
   "cell_type": "code",
   "execution_count": 14,
   "id": "d4b59012",
   "metadata": {},
   "outputs": [],
   "source": [
    "labels = ['airplane', 'automobile', 'bird', 'cat', 'deer','dog', 'frog', 'horse', 'ship', 'truck']"
   ]
  },
  {
   "cell_type": "code",
   "execution_count": 60,
   "id": "7a86f12a",
   "metadata": {},
   "outputs": [
    {
     "data": {
      "image/png": "[encoded data removed]",
      "text/plain": [
       "<Figure size 300x200 with 1 Axes>"
      ]
     },
     "metadata": {},
     "output_type": "display_data"
    }
   ],
   "source": [
    "n=150\n",
    "plt.figure(figsize=(3,2))\n",
    "plt.imshow(X_train[n,1:])\n",
    "plt.title(labels[int(y_train[n])]);"
   ]
  },
  {
   "cell_type": "markdown",
   "id": "1aaa3b27",
   "metadata": {},
   "source": [
    "2 - Data Distribution: "
   ]
  },
  {
   "cell_type": "code",
   "execution_count": 16,
   "id": "66a6278a",
   "metadata": {},
   "outputs": [
    {
     "data": {
      "text/plain": [
       "numpy.ndarray"
      ]
     },
     "execution_count": 16,
     "metadata": {},
     "output_type": "execute_result"
    }
   ],
   "source": [
    "type(pd.DataFrame(y_train).value_counts().values)"
   ]
  },
  {
   "cell_type": "code",
   "execution_count": 17,
   "id": "f7bc6a87",
   "metadata": {},
   "outputs": [
    {
     "data": {
      "text/plain": [
       "Text(0.5, 1.0, 'Disrtibution of Training Set')"
      ]
     },
     "execution_count": 17,
     "metadata": {},
     "output_type": "execute_result"
    },
    {
     "data": {
      "image/png": "[encoded data removed]",
      "text/plain": [
       "<Figure size 640x480 with 1 Axes>"
      ]
     },
     "metadata": {},
     "output_type": "display_data"
    }
   ],
   "source": [
    "sns.countplot(pd.DataFrame(y_train,columns = ['Objet']),  x = 'Objet')\n",
    "plt.title('Disrtibution of Training Set')"
   ]
  },
  {
   "cell_type": "code",
   "execution_count": 18,
   "id": "5d2c4d07",
   "metadata": {},
   "outputs": [],
   "source": [
    "#plt.barh(a, pd.DataFrame(y_train).value_counts().values())"
   ]
  },
  {
   "cell_type": "code",
   "execution_count": 19,
   "id": "ea205c9c",
   "metadata": {},
   "outputs": [
    {
     "data": {
      "text/plain": [
       "Text(0.5, 1.0, 'Distribution of test set ')"
      ]
     },
     "execution_count": 19,
     "metadata": {},
     "output_type": "execute_result"
    },
    {
     "data": {
      "image/png": "[encoded data removed]",
      "text/plain": [
       "<Figure size 640x480 with 1 Axes>"
      ]
     },
     "metadata": {},
     "output_type": "display_data"
    }
   ],
   "source": [
    "sns.countplot(pd.DataFrame(y_test,columns = ['Objet']),  x = 'Objet')\n",
    "plt.title('Distribution of test set ')"
   ]
  },
  {
   "cell_type": "markdown",
   "id": "9c5bf37e",
   "metadata": {},
   "source": [
    "### Data Preprocessing"
   ]
  },
  {
   "cell_type": "code",
   "execution_count": 20,
   "id": "5b011343",
   "metadata": {},
   "outputs": [],
   "source": [
    "X_train , X_test = X_train / 255.0 , X_test / 255.0"
   ]
  },
  {
   "cell_type": "code",
   "execution_count": 21,
   "id": "dc9a8336",
   "metadata": {},
   "outputs": [
    {
     "data": {
      "text/plain": [
       "0    uint8\n",
       "dtype: object"
      ]
     },
     "execution_count": 21,
     "metadata": {},
     "output_type": "execute_result"
    }
   ],
   "source": [
    "pd.DataFrame(y_train).dtypes"
   ]
  },
  {
   "cell_type": "code",
   "execution_count": 22,
   "id": "b97e16f2",
   "metadata": {},
   "outputs": [],
   "source": [
    "from keras.utils import to_categorical"
   ]
  },
  {
   "cell_type": "code",
   "execution_count": 23,
   "id": "a106a922",
   "metadata": {},
   "outputs": [],
   "source": [
    "# Transform target variable into one-hotencoding\n",
    "y_train_cat = to_categorical(y_train, 10)\n",
    "y_test_cat = to_categorical(y_test, 10)"
   ]
  },
  {
   "cell_type": "code",
   "execution_count": 24,
   "id": "706bbb1b",
   "metadata": {},
   "outputs": [
    {
     "data": {
      "text/plain": [
       "numpy.ndarray"
      ]
     },
     "execution_count": 24,
     "metadata": {},
     "output_type": "execute_result"
    }
   ],
   "source": [
    "type(y_test_cat)"
   ]
  },
  {
   "cell_type": "markdown",
   "id": "b09c9184",
   "metadata": {},
   "source": [
    "### Model Building"
   ]
  },
  {
   "cell_type": "markdown",
   "id": "bd63d482",
   "metadata": {},
   "source": [
    "Importing Laibraries"
   ]
  },
  {
   "cell_type": "code",
   "execution_count": 25,
   "id": "8f6f5ee5",
   "metadata": {},
   "outputs": [],
   "source": [
    "from tensorflow.keras.layers import Conv2D, BatchNormalization , MaxPool2D , Flatten , Dense , Dropout"
   ]
  },
  {
   "cell_type": "markdown",
   "id": "27664897",
   "metadata": {},
   "source": [
    "Initialzing Model"
   ]
  },
  {
   "cell_type": "code",
   "execution_count": 26,
   "id": "09a8c1e8",
   "metadata": {},
   "outputs": [],
   "source": [
    "cnn = tf.keras.models.Sequential()"
   ]
  },
  {
   "cell_type": "markdown",
   "id": "8dd1b3a4",
   "metadata": {},
   "source": [
    "#### Layers "
   ]
  },
  {
   "cell_type": "markdown",
   "id": "5e646381",
   "metadata": {},
   "source": [
    " - Block 1 :"
   ]
  },
  {
   "cell_type": "code",
   "execution_count": 27,
   "id": "7458edf4",
   "metadata": {},
   "outputs": [],
   "source": [
    "cnn.add(Conv2D(filters = 32 , kernel_size = 3 , activation = 'relu' , input_shape = [32,32,3], padding = 'same')) #Conv"
   ]
  },
  {
   "cell_type": "code",
   "execution_count": 28,
   "id": "0b66e7cb",
   "metadata": {
    "scrolled": true
   },
   "outputs": [],
   "source": [
    "cnn.add(BatchNormalization()) #Batch Norm"
   ]
  },
  {
   "cell_type": "code",
   "execution_count": 29,
   "id": "672447e8",
   "metadata": {},
   "outputs": [],
   "source": [
    "cnn.add(Conv2D(filters = 32 , kernel_size = 3 , activation = 'relu' , input_shape = [32,32,3], padding = 'same')) #Conv"
   ]
  },
  {
   "cell_type": "code",
   "execution_count": 30,
   "id": "723f75b3",
   "metadata": {},
   "outputs": [],
   "source": [
    "cnn.add(BatchNormalization()) #Batch Norm"
   ]
  },
  {
   "cell_type": "code",
   "execution_count": 31,
   "id": "d872f625",
   "metadata": {},
   "outputs": [],
   "source": [
    "cnn.add(MaxPool2D(pool_size = 2 , strides = 2)) #Max Pooling"
   ]
  },
  {
   "cell_type": "markdown",
   "id": "cfcb0d34",
   "metadata": {},
   "source": [
    " - Block 2 :"
   ]
  },
  {
   "cell_type": "code",
   "execution_count": 32,
   "id": "ccfca922",
   "metadata": {},
   "outputs": [],
   "source": [
    "cnn.add(Conv2D(filters = 64 , kernel_size = 3 , activation = 'relu', padding = 'same')) #Conv\n",
    "cnn.add(BatchNormalization()) #Batch Norm"
   ]
  },
  {
   "cell_type": "code",
   "execution_count": 33,
   "id": "318c2a6f",
   "metadata": {},
   "outputs": [],
   "source": [
    "cnn.add(Conv2D(filters = 64 , kernel_size = 3 , activation = 'relu', padding = 'same')) #Conv\n",
    "cnn.add(BatchNormalization()) #Batch Norm"
   ]
  },
  {
   "cell_type": "code",
   "execution_count": 34,
   "id": "af87e53d",
   "metadata": {},
   "outputs": [],
   "source": [
    "cnn.add(MaxPool2D(pool_size = 2 , strides = 2)) #Max Pooling"
   ]
  },
  {
   "cell_type": "markdown",
   "id": "bced1dbd",
   "metadata": {},
   "source": [
    " - Block 3 :"
   ]
  },
  {
   "cell_type": "code",
   "execution_count": 35,
   "id": "fae97453",
   "metadata": {},
   "outputs": [],
   "source": [
    "cnn.add(Conv2D(filters = 128 , kernel_size = 3 , activation = 'relu', padding = 'same')) #Conv\n",
    "cnn.add(BatchNormalization()) #Batch Norm"
   ]
  },
  {
   "cell_type": "code",
   "execution_count": 36,
   "id": "77e9bdeb",
   "metadata": {},
   "outputs": [],
   "source": [
    "cnn.add(Conv2D(filters = 128 , kernel_size = 3 , activation = 'relu', padding = 'same')) #Conv\n",
    "cnn.add(BatchNormalization()) #Batch Norm"
   ]
  },
  {
   "cell_type": "code",
   "execution_count": 37,
   "id": "d3e9e4d4",
   "metadata": {},
   "outputs": [],
   "source": [
    "cnn.add(MaxPool2D(pool_size = 3 , strides = 3)) #Max Pooling"
   ]
  },
  {
   "cell_type": "markdown",
   "id": "0e25f480",
   "metadata": {},
   "source": [
    " - Flattenning :"
   ]
  },
  {
   "cell_type": "code",
   "execution_count": 38,
   "id": "860a002b",
   "metadata": {},
   "outputs": [],
   "source": [
    "cnn.add(Flatten())"
   ]
  },
  {
   "cell_type": "markdown",
   "id": "a118aa0c",
   "metadata": {},
   "source": [
    " - Fully Connected Layer + Dropout :"
   ]
  },
  {
   "cell_type": "code",
   "execution_count": 39,
   "id": "dc719214",
   "metadata": {},
   "outputs": [],
   "source": [
    "cnn.add(Dense(units = 128 , activation = 'relu'))"
   ]
  },
  {
   "cell_type": "code",
   "execution_count": 40,
   "id": "1d317746",
   "metadata": {},
   "outputs": [],
   "source": [
    "cnn.add(Dropout(0.2))"
   ]
  },
  {
   "cell_type": "markdown",
   "id": "63e262d6",
   "metadata": {},
   "source": [
    " - Output layer :"
   ]
  },
  {
   "cell_type": "code",
   "execution_count": 41,
   "id": "4d41dba5",
   "metadata": {},
   "outputs": [],
   "source": [
    "cnn.add(tf.keras.layers.Dense(units = 10 , activation = 'softmax'))"
   ]
  },
  {
   "cell_type": "code",
   "execution_count": 42,
   "id": "793c0edb",
   "metadata": {},
   "outputs": [
    {
     "name": "stdout",
     "output_type": "stream",
     "text": [
      "Model: \"sequential\"\n",
      "_________________________________________________________________\n",
      " Layer (type)                Output Shape              Param #   \n",
      "=================================================================\n",
      " conv2d (Conv2D)             (None, 32, 32, 32)        896       \n",
      "                                                                 \n",
      " batch_normalization (BatchN  (None, 32, 32, 32)       128       \n",
      " ormalization)                                                   \n",
      "                                                                 \n",
      " conv2d_1 (Conv2D)           (None, 32, 32, 32)        9248      \n",
      "                                                                 \n",
      " batch_normalization_1 (Batc  (None, 32, 32, 32)       128       \n",
      " hNormalization)                                                 \n",
      "                                                                 \n",
      " max_pooling2d (MaxPooling2D  (None, 16, 16, 32)       0         \n",
      " )                                                               \n",
      "                                                                 \n",
      " conv2d_2 (Conv2D)           (None, 16, 16, 64)        18496     \n",
      "                                                                 \n",
      " batch_normalization_2 (Batc  (None, 16, 16, 64)       256       \n",
      " hNormalization)                                                 \n",
      "                                                                 \n",
      " conv2d_3 (Conv2D)           (None, 16, 16, 64)        36928     \n",
      "                                                                 \n",
      " batch_normalization_3 (Batc  (None, 16, 16, 64)       256       \n",
      " hNormalization)                                                 \n",
      "                                                                 \n",
      " max_pooling2d_1 (MaxPooling  (None, 8, 8, 64)         0         \n",
      " 2D)                                                             \n",
      "                                                                 \n",
      " conv2d_4 (Conv2D)           (None, 8, 8, 128)         73856     \n",
      "                                                                 \n",
      " batch_normalization_4 (Batc  (None, 8, 8, 128)        512       \n",
      " hNormalization)                                                 \n",
      "                                                                 \n",
      " conv2d_5 (Conv2D)           (None, 8, 8, 128)         147584    \n",
      "                                                                 \n",
      " batch_normalization_5 (Batc  (None, 8, 8, 128)        512       \n",
      " hNormalization)                                                 \n",
      "                                                                 \n",
      " max_pooling2d_2 (MaxPooling  (None, 2, 2, 128)        0         \n",
      " 2D)                                                             \n",
      "                                                                 \n",
      " flatten (Flatten)           (None, 512)               0         \n",
      "                                                                 \n",
      " dense (Dense)               (None, 128)               65664     \n",
      "                                                                 \n",
      " dropout (Dropout)           (None, 128)               0         \n",
      "                                                                 \n",
      " dense_1 (Dense)             (None, 10)                1290      \n",
      "                                                                 \n",
      "=================================================================\n",
      "Total params: 355,754\n",
      "Trainable params: 354,858\n",
      "Non-trainable params: 896\n",
      "_________________________________________________________________\n"
     ]
    }
   ],
   "source": [
    "cnn.summary()"
   ]
  },
  {
   "cell_type": "markdown",
   "id": "80e508df",
   "metadata": {},
   "source": [
    "### Model Training "
   ]
  },
  {
   "cell_type": "code",
   "execution_count": 43,
   "id": "8eaa62ea",
   "metadata": {},
   "outputs": [],
   "source": [
    "#Compile Model\n",
    "cnn.compile(optimizer = 'adam' , loss = 'categorical_crossentropy',metrics=['accuracy'])"
   ]
  },
  {
   "cell_type": "code",
   "execution_count": 44,
   "id": "13453c84",
   "metadata": {
    "scrolled": true
   },
   "outputs": [],
   "source": [
    "#help(tf.keras.models.Sequential.compile)"
   ]
  },
  {
   "cell_type": "markdown",
   "id": "006eebb6",
   "metadata": {},
   "source": [
    "Data Augemtation"
   ]
  },
  {
   "cell_type": "code",
   "execution_count": 45,
   "id": "bdf4da54",
   "metadata": {},
   "outputs": [],
   "source": [
    "from keras.preprocessing.image import ImageDataGenerator\n",
    "batch_size = 32\n",
    "data_generator = ImageDataGenerator(width_shift_range=0.1, height_shift_range=0.1, horizontal_flip=True)\n",
    "train_generator = data_generator.flow(X_train, y_train_cat, batch_size)\n",
    "steps_per_epoch = X_train.shape[0] // batch_size"
   ]
  },
  {
   "cell_type": "markdown",
   "id": "002b5a07",
   "metadata": {},
   "source": [
    "Training"
   ]
  },
  {
   "cell_type": "code",
   "execution_count": 46,
   "id": "68e5548c",
   "metadata": {},
   "outputs": [
    {
     "name": "stdout",
     "output_type": "stream",
     "text": [
      "Epoch 1/50\n",
      "1563/1563 [==============================] - 34s 17ms/step - loss: 1.4496 - accuracy: 0.4765 - val_loss: 1.3053 - val_accuracy: 0.5617\n",
      "Epoch 2/50\n",
      "1563/1563 [==============================] - 28s 18ms/step - loss: 1.0233 - accuracy: 0.6413 - val_loss: 0.9000 - val_accuracy: 0.6909\n",
      "Epoch 3/50\n",
      "1563/1563 [==============================] - 30s 19ms/step - loss: 0.8522 - accuracy: 0.7064 - val_loss: 0.9947 - val_accuracy: 0.6866\n",
      "Epoch 4/50\n",
      "1563/1563 [==============================] - 31s 20ms/step - loss: 0.7397 - accuracy: 0.7485 - val_loss: 0.8127 - val_accuracy: 0.7201\n",
      "Epoch 5/50\n",
      "1563/1563 [==============================] - 31s 20ms/step - loss: 0.6672 - accuracy: 0.7726 - val_loss: 0.5995 - val_accuracy: 0.7954\n",
      "Epoch 6/50\n",
      "1563/1563 [==============================] - 28s 18ms/step - loss: 0.6170 - accuracy: 0.7904 - val_loss: 0.6213 - val_accuracy: 0.7940\n",
      "Epoch 7/50\n",
      "1563/1563 [==============================] - 28s 18ms/step - loss: 0.5790 - accuracy: 0.8031 - val_loss: 0.6105 - val_accuracy: 0.7982\n",
      "Epoch 8/50\n",
      "1563/1563 [==============================] - 28s 18ms/step - loss: 0.5494 - accuracy: 0.8131 - val_loss: 0.6669 - val_accuracy: 0.7794\n",
      "Epoch 9/50\n",
      "1563/1563 [==============================] - 29s 19ms/step - loss: 0.5147 - accuracy: 0.8243 - val_loss: 0.5549 - val_accuracy: 0.8135\n",
      "Epoch 10/50\n",
      "1563/1563 [==============================] - 30s 19ms/step - loss: 0.4888 - accuracy: 0.8344 - val_loss: 0.5533 - val_accuracy: 0.8076\n",
      "Epoch 11/50\n",
      "1563/1563 [==============================] - 33s 21ms/step - loss: 0.4687 - accuracy: 0.8423 - val_loss: 0.5114 - val_accuracy: 0.8279\n",
      "Epoch 12/50\n",
      "1563/1563 [==============================] - 31s 20ms/step - loss: 0.4452 - accuracy: 0.8479 - val_loss: 0.5046 - val_accuracy: 0.8272\n",
      "Epoch 13/50\n",
      "1563/1563 [==============================] - 28s 18ms/step - loss: 0.4322 - accuracy: 0.8510 - val_loss: 0.5335 - val_accuracy: 0.8242\n",
      "Epoch 14/50\n",
      "1563/1563 [==============================] - 31s 20ms/step - loss: 0.4143 - accuracy: 0.8577 - val_loss: 0.4633 - val_accuracy: 0.8490\n",
      "Epoch 15/50\n",
      "1563/1563 [==============================] - 33s 21ms/step - loss: 0.4026 - accuracy: 0.8616 - val_loss: 0.4669 - val_accuracy: 0.8457\n",
      "Epoch 16/50\n",
      "1563/1563 [==============================] - 29s 19ms/step - loss: 0.3894 - accuracy: 0.8663 - val_loss: 0.4500 - val_accuracy: 0.8534\n",
      "Epoch 17/50\n",
      "1563/1563 [==============================] - 33s 21ms/step - loss: 0.3764 - accuracy: 0.8709 - val_loss: 0.4754 - val_accuracy: 0.8427\n",
      "Epoch 18/50\n",
      "1563/1563 [==============================] - 28s 18ms/step - loss: 0.3682 - accuracy: 0.8735 - val_loss: 0.4314 - val_accuracy: 0.8593\n",
      "Epoch 19/50\n",
      "1563/1563 [==============================] - 30s 19ms/step - loss: 0.3586 - accuracy: 0.8774 - val_loss: 0.4495 - val_accuracy: 0.8531\n",
      "Epoch 20/50\n",
      "1563/1563 [==============================] - 33s 21ms/step - loss: 0.3422 - accuracy: 0.8830 - val_loss: 0.4325 - val_accuracy: 0.8581\n",
      "Epoch 21/50\n",
      "1563/1563 [==============================] - 34s 22ms/step - loss: 0.3327 - accuracy: 0.8852 - val_loss: 0.4401 - val_accuracy: 0.8622\n",
      "Epoch 22/50\n",
      "1563/1563 [==============================] - 30s 19ms/step - loss: 0.3317 - accuracy: 0.8869 - val_loss: 0.4626 - val_accuracy: 0.8497\n",
      "Epoch 23/50\n",
      "1563/1563 [==============================] - 32s 21ms/step - loss: 0.3199 - accuracy: 0.8891 - val_loss: 0.4197 - val_accuracy: 0.8593\n",
      "Epoch 24/50\n",
      "1563/1563 [==============================] - 30s 19ms/step - loss: 0.3119 - accuracy: 0.8906 - val_loss: 0.4183 - val_accuracy: 0.8660\n",
      "Epoch 25/50\n",
      "1563/1563 [==============================] - 28s 18ms/step - loss: 0.3039 - accuracy: 0.8964 - val_loss: 0.4089 - val_accuracy: 0.8644\n",
      "Epoch 26/50\n",
      "1563/1563 [==============================] - 31s 20ms/step - loss: 0.2982 - accuracy: 0.8962 - val_loss: 0.4392 - val_accuracy: 0.8616\n",
      "Epoch 27/50\n",
      "1563/1563 [==============================] - 30s 19ms/step - loss: 0.2916 - accuracy: 0.9006 - val_loss: 0.4160 - val_accuracy: 0.8665\n",
      "Epoch 28/50\n",
      "1563/1563 [==============================] - 29s 19ms/step - loss: 0.2866 - accuracy: 0.9013 - val_loss: 0.4352 - val_accuracy: 0.8612\n",
      "Epoch 29/50\n",
      "1563/1563 [==============================] - 29s 18ms/step - loss: 0.2802 - accuracy: 0.9033 - val_loss: 0.4593 - val_accuracy: 0.8552\n",
      "Epoch 30/50\n",
      "1563/1563 [==============================] - 29s 18ms/step - loss: 0.2777 - accuracy: 0.9046 - val_loss: 0.4300 - val_accuracy: 0.8628\n",
      "Epoch 31/50\n",
      "1563/1563 [==============================] - 31s 20ms/step - loss: 0.2678 - accuracy: 0.9058 - val_loss: 0.4410 - val_accuracy: 0.8560\n",
      "Epoch 32/50\n",
      "1563/1563 [==============================] - 29s 18ms/step - loss: 0.2648 - accuracy: 0.9081 - val_loss: 0.4451 - val_accuracy: 0.8614\n",
      "Epoch 33/50\n",
      "1563/1563 [==============================] - 32s 20ms/step - loss: 0.2581 - accuracy: 0.9110 - val_loss: 0.3897 - val_accuracy: 0.8729\n",
      "Epoch 34/50\n",
      "1563/1563 [==============================] - 32s 20ms/step - loss: 0.2516 - accuracy: 0.9121 - val_loss: 0.4558 - val_accuracy: 0.8596\n",
      "Epoch 35/50\n",
      "1563/1563 [==============================] - 32s 21ms/step - loss: 0.2483 - accuracy: 0.9131 - val_loss: 0.4191 - val_accuracy: 0.8678\n",
      "Epoch 36/50\n",
      "1563/1563 [==============================] - 32s 21ms/step - loss: 0.2394 - accuracy: 0.9155 - val_loss: 0.4107 - val_accuracy: 0.8713\n",
      "Epoch 37/50\n",
      "1563/1563 [==============================] - 31s 20ms/step - loss: 0.2433 - accuracy: 0.9144 - val_loss: 0.4747 - val_accuracy: 0.8556\n",
      "Epoch 38/50\n",
      "1563/1563 [==============================] - 31s 20ms/step - loss: 0.2377 - accuracy: 0.9169 - val_loss: 0.4816 - val_accuracy: 0.8556\n",
      "Epoch 39/50\n",
      "1563/1563 [==============================] - 39s 25ms/step - loss: 0.2317 - accuracy: 0.9191 - val_loss: 0.4399 - val_accuracy: 0.8613\n",
      "Epoch 40/50\n",
      "1563/1563 [==============================] - 32s 20ms/step - loss: 0.2299 - accuracy: 0.9198 - val_loss: 0.4537 - val_accuracy: 0.8642\n",
      "Epoch 41/50\n",
      "1563/1563 [==============================] - 32s 20ms/step - loss: 0.2260 - accuracy: 0.9216 - val_loss: 0.4866 - val_accuracy: 0.8587\n",
      "Epoch 42/50\n",
      "1563/1563 [==============================] - 31s 20ms/step - loss: 0.2223 - accuracy: 0.9234 - val_loss: 0.4481 - val_accuracy: 0.8630\n",
      "Epoch 43/50\n",
      "1563/1563 [==============================] - 37s 24ms/step - loss: 0.2191 - accuracy: 0.9240 - val_loss: 0.4805 - val_accuracy: 0.8591\n",
      "Epoch 44/50\n",
      "1563/1563 [==============================] - 32s 21ms/step - loss: 0.2188 - accuracy: 0.9246 - val_loss: 0.4146 - val_accuracy: 0.8730\n",
      "Epoch 45/50\n",
      "1563/1563 [==============================] - 33s 21ms/step - loss: 0.2128 - accuracy: 0.9260 - val_loss: 0.3971 - val_accuracy: 0.8786\n",
      "Epoch 46/50\n",
      "1563/1563 [==============================] - 34s 22ms/step - loss: 0.2105 - accuracy: 0.9269 - val_loss: 0.3862 - val_accuracy: 0.8762\n",
      "Epoch 47/50\n",
      "1563/1563 [==============================] - 29s 19ms/step - loss: 0.2022 - accuracy: 0.9299 - val_loss: 0.3938 - val_accuracy: 0.8813\n",
      "Epoch 48/50\n",
      "1563/1563 [==============================] - 32s 21ms/step - loss: 0.2052 - accuracy: 0.9288 - val_loss: 0.4345 - val_accuracy: 0.8724\n",
      "Epoch 49/50\n",
      "1563/1563 [==============================] - 33s 21ms/step - loss: 0.2029 - accuracy: 0.9296 - val_loss: 0.4448 - val_accuracy: 0.8737\n",
      "Epoch 50/50\n",
      "1563/1563 [==============================] - 31s 20ms/step - loss: 0.2009 - accuracy: 0.9309 - val_loss: 0.4564 - val_accuracy: 0.8664\n"
     ]
    },
    {
     "data": {
      "text/plain": [
       "<keras.callbacks.History at 0x1be98a13490>"
      ]
     },
     "execution_count": 46,
     "metadata": {},
     "output_type": "execute_result"
    }
   ],
   "source": [
    "cnn.fit(train_generator, validation_data=(X_test, y_test_cat) , epochs=50 )\n"
   ]
  },
  {
   "cell_type": "markdown",
   "id": "324d5d85",
   "metadata": {},
   "source": [
    "### Model Evaluation"
   ]
  },
  {
   "cell_type": "code",
   "execution_count": 47,
   "id": "b325feeb",
   "metadata": {},
   "outputs": [
    {
     "name": "stdout",
     "output_type": "stream",
     "text": [
      "313/313 [==============================] - 1s 4ms/step\n"
     ]
    }
   ],
   "source": [
    "y_pred = cnn.predict(X_test)"
   ]
  },
  {
   "cell_type": "code",
   "execution_count": 48,
   "id": "e745fdd2",
   "metadata": {},
   "outputs": [
    {
     "data": {
      "text/plain": [
       "(10000, 10)"
      ]
     },
     "execution_count": 48,
     "metadata": {},
     "output_type": "execute_result"
    }
   ],
   "source": [
    "y_pred.shape"
   ]
  },
  {
   "cell_type": "code",
   "execution_count": 50,
   "id": "3cd686d7",
   "metadata": {},
   "outputs": [],
   "source": [
    "from sklearn.metrics import ConfusionMatrixDisplay,confusion_matrix"
   ]
  },
  {
   "cell_type": "code",
   "execution_count": 51,
   "id": "3a2252dd",
   "metadata": {},
   "outputs": [],
   "source": [
    "y_pred_labels = np.argmax(y_pred, axis=1)"
   ]
  },
  {
   "cell_type": "code",
   "execution_count": 52,
   "id": "e3dbd252",
   "metadata": {},
   "outputs": [
    {
     "data": {
      "text/plain": [
       "array([3, 8, 8, ..., 2, 1, 7], dtype=int64)"
      ]
     },
     "execution_count": 52,
     "metadata": {},
     "output_type": "execute_result"
    }
   ],
   "source": [
    "y_pred_labels"
   ]
  },
  {
   "cell_type": "code",
   "execution_count": 53,
   "id": "6523cc72",
   "metadata": {},
   "outputs": [],
   "source": [
    "#ConfusionMatrixDisplay.from_estimator(cnn,X_test,y_test_cat)\n",
    "cm = confusion_matrix(y_test, y_pred_labels)"
   ]
  },
  {
   "cell_type": "code",
   "execution_count": 54,
   "id": "1ef16246",
   "metadata": {},
   "outputs": [
    {
     "data": {
      "image/png": "[encoded data removed]",
      "text/plain": [
       "<Figure size 640x480 with 2 Axes>"
      ]
     },
     "metadata": {},
     "output_type": "display_data"
    }
   ],
   "source": [
    "disp = ConfusionMatrixDisplay(confusion_matrix=cm, display_labels=labels)\n",
    "disp.plot(cmap='magma')\n",
    "plt.xticks(rotation = 90)\n",
    "plt.show()\n"
   ]
  },
  {
   "cell_type": "code",
   "execution_count": 55,
   "id": "b99ed1dc",
   "metadata": {},
   "outputs": [
    {
     "name": "stdout",
     "output_type": "stream",
     "text": [
      "1563/1563 [==============================] - 5s 3ms/step\n"
     ]
    }
   ],
   "source": [
    "y_train_pred = cnn.predict(X_train)"
   ]
  },
  {
   "cell_type": "code",
   "execution_count": 56,
   "id": "4878f9be",
   "metadata": {},
   "outputs": [],
   "source": [
    "y_train_pred_labels = np.argmax(y_train_pred, axis=1)"
   ]
  },
  {
   "cell_type": "code",
   "execution_count": 57,
   "id": "76dcc4a6",
   "metadata": {},
   "outputs": [],
   "source": [
    "cm = confusion_matrix(y_train, y_train_pred_labels)"
   ]
  },
  {
   "cell_type": "code",
   "execution_count": 58,
   "id": "e1ecda8c",
   "metadata": {},
   "outputs": [
    {
     "data": {
      "text/plain": [
       "<Figure size 2000x1200 with 0 Axes>"
      ]
     },
     "metadata": {},
     "output_type": "display_data"
    },
    {
     "data": {
      "image/png": "[encoded data removed]",
      "text/plain": [
       "<Figure size 640x480 with 2 Axes>"
      ]
     },
     "metadata": {},
     "output_type": "display_data"
    }
   ],
   "source": [
    "disp = ConfusionMatrixDisplay(confusion_matrix=cm, display_labels=labels)\n",
    "plt.figure(figsize =(10,6),dpi = 200)\n",
    "disp.plot(cmap='magma')\n",
    "plt.xticks(rotation = 90)\n",
    "plt.show()\n"
   ]
  },
  {
   "cell_type": "code",
   "execution_count": 59,
   "id": "151e9bfe",
   "metadata": {},
   "outputs": [],
   "source": [
    "# plot diagnostic learning curves\n",
    "def summarize_diagnostics(history):\n",
    " # plot loss\n",
    "    plt.subplot(211)\n",
    "    plt.title('Cross Entropy Loss')\n",
    "    plt.plot(history.history['loss'], color='blue', label='train')\n",
    "    plt.plot(history.history['val_loss'], color='orange', label='test')\n",
    "     # plot accuracy\n",
    "    plt.subplot(212)\n",
    "    plt.title('Classification Accuracy')\n",
    "    plt.plot(history.history['accuracy'], color='blue', label='train')\n",
    "    plt.plot(history.history['val_accuracy'], color='orange', label='test')\n",
    "     # save plot to file\n",
    "    \n",
    "    plt.close()"
   ]
  },
  {
   "cell_type": "code",
   "execution_count": null,
   "id": "2505ce20",
   "metadata": {},
   "outputs": [],
   "source": [
    "plt.subplot(211)\n",
    "plt.title('Cross Entropy Loss')\n",
    "plt.plot(cnn.history['loss'], color='blue', label='train')\n",
    "plt.plot(cnn.history['val_loss'], color='orange', label='test')\n",
    "\n",
    "     # plot accuracy\n",
    "plt.subplot(212)\n",
    "plt.title('Classification Accuracy')\n",
    "plt.plot(cnn.history['accuracy'], color='blue', label='train')\n",
    "plt.plot(cnn.history['val_accuracy'], color='orange', label='test')"
   ]
  }
 ],
 "metadata": {
  "kernelspec": {
   "display_name": "Python 3 (ipykernel)",
   "language": "python",
   "name": "python3"
  },
  "language_info": {
   "codemirror_mode": {
    "name": "ipython",
    "version": 3
   },
   "file_extension": ".py",
   "mimetype": "text/x-python",
   "name": "python",
   "nbconvert_exporter": "python",
   "pygments_lexer": "ipython3",
   "version": "3.8.0"
  }
 },
 "nbformat": 4,
 "nbformat_minor": 5
}
